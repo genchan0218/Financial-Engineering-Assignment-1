{
 "cells": [
  {
   "cell_type": "markdown",
   "metadata": {},
   "source": [
    "<h2><font color='#306998'><center>451 Financial Engineering: Programming Assignment 1</center></font></h2>\n",
    "<h3><center>Genki Hirayama 07/12/2025 </center></h3>\n",
    "---"
   ]
  },
  {
   "cell_type": "markdown",
   "metadata": {},
   "source": [
    "## Overview \n",
    "We use machine learning classifiers, including tree-based ensemble boosting methods, to predict the direction of [Bitcoin (BTC)](https://en.wikipedia.org/wiki/Bitcoin) price movements (up or down) using a variety of lagged price features. In particular, we analyze daily closing spot prices for Bitcoin (BTC), incorporating lags of one to seven days, along with engineered features derived from daily open, high, low, and close (OHLC) prices, and trading volume.\n",
    "\n",
    "This directional return prediction model lays the groundwork for evaluating the predictive power of additional signals. The space of potential features is broad, ranging from alternative asset price relationships and macroeconomic indicators to blockchain analytics, network activity, social sentiment, and news/media coverage."
   ]
  },
  {
   "cell_type": "markdown",
   "metadata": {
    "tags": []
   },
   "source": [
    "### Import Libraries\n",
    "We draw on Python packages for data manipulation and modeling. Most important are Polars, a high-performance alternative to Pandas for data manipulation, and Scikit-Learn for machine learning study design and modeling algorithms."
   ]
  },
  {
   "cell_type": "code",
   "execution_count": 11,
   "metadata": {
    "scrolled": true
   },
   "outputs": [],
   "source": [
    "import os\n",
    "# Ignore warnings\n",
    "import warnings\n",
    "warnings.filterwarnings('ignore')\n",
    "warnings.simplefilter(action='ignore', category=FutureWarning)\n",
    "\n",
    "# Import Python Packages for data manipulation, data pipelines, and databases\n",
    "import numpy as np\n",
    "import pyarrow # foundation for polars\n",
    "import polars as pl # DataFrame work superior to Pandas\n",
    "\n",
    "# Plotting\n",
    "import matplotlib.pyplot as plt\n",
    "# Display static plots directly in the notebook output \n",
    "%matplotlib inline\n",
    "# create stylized visualizations, including heat maps\n",
    "import seaborn as sns\n",
    "\n",
    "# Preprocessing\n",
    "from sklearn.preprocessing import MinMaxScaler, StandardScaler\n",
    "from sklearn.pipeline import Pipeline\n",
    "from sklearn.model_selection import (RandomizedSearchCV, \n",
    "                                    TimeSeriesSplit)\n",
    "from sklearn.model_selection import cross_validate\n",
    "\n",
    "# utilized in all possible subsets classification work\n",
    "from sklearn.linear_model import LogisticRegression\n",
    "from sklearn.metrics import log_loss\n",
    "\n",
    "# needed for randomized search\n",
    "from sklearn.model_selection import RandomizedSearchCV\n",
    "from scipy.stats import randint, uniform\n",
    "\n",
    "# metrics in xgboost tuning and final model evaluation\n",
    "from sklearn.metrics import (accuracy_score,\n",
    "                             classification_report, \n",
    "                             roc_curve, \n",
    "                             roc_auc_score,\n",
    "                             RocCurveDisplay,\n",
    "                             ConfusionMatrixDisplay,\n",
    "                             confusion_matrix,\n",
    "                             precision_score,\n",
    "                             recall_score,\n",
    "                             f1_score\n",
    "                            )\n",
    "\n",
    "# XGBoost Package... more complete than SciKit-Learn boosting methods\n",
    "import xgboost as xgb\n",
    "from xgboost import XGBRegressor, XGBClassifier, plot_importance\n",
    "\n",
    "# import yfinance as yf  # used earlier to obtain the price series\n",
    "# import yfinance as yf\n",
    "\n",
    "import warnings\n",
    "# Suppress warnings for cleaner output\n",
    "warnings.filterwarnings('ignore') "
   ]
  },
  {
   "cell_type": "markdown",
   "metadata": {},
   "source": [
    "### Retrieve Data\n",
    "In previous work, we retrieved price data for btc from Yahoo Finance. The code is shown in the next commented-out cell."
   ]
  },
  {
   "cell_type": "code",
   "execution_count": 31,
   "metadata": {},
   "outputs": [
    {
     "data": {
      "text/plain": [
       "'\\nPrevious work to retrieve data from Yahoo Finance\\n\\nsymbol = \\'btc\\'\\nstart_date = \\'2000-01-01\\'\\nend_date = \\'2025-05-27\\'\\n\\nsymbol = \\'btc\\'\\nticker = yf.Ticker(symbol)\\nhistorical_data = ticker.history(start = start_date, end = end_date, period = \\'1mo\\')\\nprint(historical_data)\\n\\nprint(\"type of historical_data\", type(historical_data))\\n\\nhistorical_data.to_parquet(\"btc_historical_data.parquet\", index=False)\\n\\n'"
      ]
     },
     "execution_count": 31,
     "metadata": {},
     "output_type": "execute_result"
    }
   ],
   "source": [
    "'''\n",
    "Previous work to retrieve data from Yahoo Finance\n",
    "\n",
    "symbol = 'btc'\n",
    "start_date = '2000-01-01'\n",
    "end_date = '2025-05-27'\n",
    "\n",
    "symbol = 'btc'\n",
    "ticker = yf.Ticker(symbol)\n",
    "historical_data = ticker.history(start = start_date, end = end_date, period = '1mo')\n",
    "print(historical_data)\n",
    "\n",
    "print(\"type of historical_data\", type(historical_data))\n",
    "\n",
    "historical_data.to_parquet(\"btc_historical_data.parquet\", index=False)\n",
    "\n",
    "'''"
   ]
  },
  {
   "cell_type": "markdown",
   "metadata": {},
   "source": [
    "### Polars DataFrame Development\n",
    "The following code cell demonstrates Polars use with the time series DataFrame for our selected market/ticker, btc."
   ]
  },
  {
   "cell_type": "code",
   "execution_count": 13,
   "metadata": {},
   "outputs": [
    {
     "name": "stdout",
     "output_type": "stream",
     "text": [
      "Schema([('Date', Date), ('Open', Float64), ('High', Float64), ('Low', Float64), ('Close', Float64), ('Volume', Float64), ('Adjusted', Float64)])\n",
      "Schema([('Date', Date), ('Open', Float64), ('High', Float64), ('Low', Float64), ('Close', Float64), ('Volume', Float64), ('Adjusted', Float64), ('CloseLag1', Float64), ('CloseLag2', Float64), ('CloseLag3', Float64), ('HML', Float64), ('HMLLag1', Float64), ('HMLLag2', Float64), ('HMLLag3', Float64), ('OMC', Float64), ('OMCLag1', Float64), ('OMCLag2', Float64), ('OMCLag3', Float64), ('VolumeLag1', Float64), ('VolumeLag2', Float64), ('VolumeLag3', Float64), ('CloseEMA2', Float64), ('CloseEMA4', Float64), ('CloseEMA8', Float64), ('LogReturn', Float64), ('Target', Int32)])\n"
     ]
    }
   ],
   "source": [
    "import pandas as pd\n",
    "btc = pl.read_parquet(\"C:\\\\Users\\\\Genki\\\\Documents\\\\Homework\\\\Financial Machine Learning\\\\HW1\\\\Financial-Engineering-Assignment-1\\\\btc_historical_data.parquet\")\n",
    "\n",
    "#btc = pd.read_csv(\"C:/Users/Genki/Documents/Homework/Financial Machine Learning/HW1/btc_historical_data.csv\")\n",
    "#btc = pl.read_parquet(\"my_data_frame.parquet\")\n",
    "# check the original schema\n",
    "print(btc.schema)\n",
    "\n",
    "# create lag price features\n",
    "btc = btc.with_columns((pl.col('Close')).shift().alias('CloseLag1'))\n",
    "btc = btc.with_columns((pl.col('CloseLag1')).shift().alias('CloseLag2'))\n",
    "btc = btc.with_columns((pl.col('CloseLag2')).shift().alias('CloseLag3'))\n",
    "\n",
    "# create high-minus-low (HML) for day and its lags\n",
    "btc = btc.with_columns((pl.col('High') - pl.col('Low')).alias('HML'))\n",
    "btc = btc.with_columns((pl.col('HML')).shift().alias('HMLLag1'))\n",
    "btc = btc.with_columns((pl.col('HMLLag1')).shift().alias('HMLLag2'))\n",
    "btc = btc.with_columns((pl.col('HMLLag2')).shift().alias('HMLLag3'))\n",
    "\n",
    "# create a net change for the day as the open minus closing price OMC\n",
    "# also create the corresponding lag metrics\n",
    "btc = btc.with_columns((pl.col('Open') - pl.col('Close')).alias('OMC'))\n",
    "btc = btc.with_columns((pl.col('OMC')).shift().alias('OMCLag1'))\n",
    "btc = btc.with_columns((pl.col('OMCLag1')).shift().alias('OMCLag2'))\n",
    "btc = btc.with_columns((pl.col('OMCLag2')).shift().alias('OMCLag3'))\n",
    "\n",
    "# create volume lag metrics\n",
    "btc = btc.with_columns((pl.col('Volume')).shift().alias('VolumeLag1'))\n",
    "btc = btc.with_columns((pl.col('VolumeLag1')).shift().alias('VolumeLag2'))\n",
    "btc = btc.with_columns((pl.col('VolumeLag2')).shift().alias('VolumeLag3'))\n",
    "\n",
    "# compute 10-day exponential moving averages of closing prices\n",
    "# compute acround CloseLag1 to avoid any \"leakage\" in explanatory variable set\n",
    "# note also the 10-day buffer between train and test in time-series cross-validation\n",
    "btc = btc.with_columns((pl.col('CloseLag1').ewm_mean(half_life=1,ignore_nulls=True)).alias('CloseEMA2'))\n",
    "btc = btc.with_columns((pl.col('CloseLag1').ewm_mean(half_life=2,ignore_nulls=True)).alias('CloseEMA4'))\n",
    "btc = btc.with_columns((pl.col('CloseLag1').ewm_mean(half_life=4,ignore_nulls=True)).alias('CloseEMA8'))\n",
    "\n",
    "# log daily returns\n",
    "btc = btc.with_columns(np.log(pl.col('Close')/pl.col('CloseLag1')).alias('LogReturn'))\n",
    "\n",
    "# set volume features to Float64 for subsequent use in Numpy arrays\n",
    "btc = btc.with_columns(\n",
    "    pl.col('Volume').cast(pl.Float64).round(0),\n",
    "    pl.col('VolumeLag1').cast(pl.Float64).round(0),\n",
    "    pl.col('VolumeLag2').cast(pl.Float64).round(0),\n",
    "    pl.col('VolumeLag3').cast(pl.Float64).round(0),\n",
    "    )\n",
    "\n",
    "# round other features to three decimal places for reporting and subsequent analytics\n",
    "btc = btc.with_columns(\n",
    "    pl.col('Open').round(3),\n",
    "    pl.col('High').round(3),    \n",
    "    pl.col('Low').round(3),\n",
    "    pl.col('Close').round(3),      \n",
    "    pl.col('CloseLag1').round(3),\n",
    "    pl.col('CloseLag2').round(3),  \n",
    "    pl.col('CloseLag3').round(3),\n",
    "    pl.col('HML').round(3),  \n",
    "    pl.col('HMLLag1').round(3),\n",
    "    pl.col('HMLLag2').round(3),  \n",
    "    pl.col('HMLLag3').round(3),\n",
    "    pl.col('OMC').round(3),  \n",
    "    pl.col('OMCLag1').round(3),\n",
    "    pl.col('OMCLag2').round(3),  \n",
    "    pl.col('OMCLag3').round(3), \n",
    "    pl.col('CloseEMA2').round(3),\n",
    "    pl.col('CloseEMA4').round(3), \n",
    "    pl.col('CloseEMA8').round(3))\n",
    "    \n",
    "# define binary target/response 1 = market price up since previous day, 0 = even or down \n",
    "btc = btc.with_columns(pl.when(pl.col('LogReturn')>0.0).then(pl.lit(1)).otherwise(pl.lit(0)).alias('Target'))\n",
    "\n",
    "print(btc.schema)\n",
    "\n",
    "# save to external comma-delimited text file for checking calculations in Excel\n",
    "btc.write_csv(\"C:/Users/Genki/Documents/Homework/Financial Machine Learning/HW1/btc-with-computed-features.csv\")"
   ]
  },
  {
   "cell_type": "markdown",
   "metadata": {},
   "source": [
    "### Descriptive Statistics for Price Features\n",
    "\n",
    "The dataset comprises 3,903 daily observations of Bitcoin (BTC), capturing a wide range of price and volume dynamics. The average closing price over the observed period is approximately $22,396, with substantial volatility evident in its range, from as low as $178 to a peak of $111,673. Other core price metrics such as the open, high, and low follow similar distributions. The adjusted close is identical to the closing price, indicating no dividend or split adjustments were applied. Daily trading volume shows significant dispersion, with an average around $19.5 billion and spikes reaching over $350 billion, reflecting BTC's evolving market activity over time.\n",
    "\n",
    "The dataset also includes engineered features such as lagged prices, spreads, and exponential moving averages (EMAs). Lagged closing prices (1 to 3 days back) track closely with current prices, supporting the assumption of temporal dependence. The high-minus-low (HML) spread, averaging $1,001, and the open-minus-close (OMC) spread, averaging near zero but ranging from -$8,230 to +$8,182, illustrate both the typical and extreme intraday price movements. EMAs over 2-, 4-, and 8-day windows offer progressively smoother trends around the closing price. Log returns average around 0.14% daily with a standard deviation of 3.6%, indicating relatively modest directional drift amidst substantial noise. The binary target variable, which flags positive daily returns, is nearly balanced with 52.8% of the days classified as \"up,\" making it well-suited for binary classification models."
   ]
  },
  {
   "cell_type": "code",
   "execution_count": 32,
   "metadata": {},
   "outputs": [
    {
     "name": "stdout",
     "output_type": "stream",
     "text": [
      "['statistic', 'Open', 'High', 'Low', 'Close', 'Volume', 'Adjusted', 'CloseLag1', 'CloseLag2', 'CloseLag3', 'HML', 'HMLLag1', 'HMLLag2', 'HMLLag3', 'OMC', 'OMCLag1', 'OMCLag2', 'OMCLag3', 'VolumeLag1', 'VolumeLag2', 'VolumeLag3', 'CloseEMA2', 'CloseEMA4', 'CloseEMA8', 'LogReturn', 'Target']\n",
      "Schema([('column', String), ('column_0', String), ('column_2', String), ('column_3', String), ('column_4', String), ('column_6', String), ('column_8', String)])\n",
      "┌────────────┬──────────┬───────────────────────┬─────────────────────┬──────────────────────┬───────────────────────┬─────────────────────┐\n",
      "│ column     ┆ column_0 ┆ column_2              ┆ column_3            ┆ column_4             ┆ column_6              ┆ column_8            │\n",
      "╞════════════╪══════════╪═══════════════════════╪═════════════════════╪══════════════════════╪═══════════════════════╪═════════════════════╡\n",
      "│ statistic  ┆ count    ┆ mean                  ┆ std                 ┆ min                  ┆ 50%                   ┆ max                 │\n",
      "│ Open       ┆ 3903.0   ┆ 22369.327666666664    ┆ 25920.1152268858    ┆ 176.897              ┆ 9796.42               ┆ 111679.359          │\n",
      "│ High       ┆ 3903.0   ┆ 22859.49339661798     ┆ 26453.82434351074   ┆ 211.731              ┆ 10021.744             ┆ 111970.172          │\n",
      "│ Low        ┆ 3903.0   ┆ 21858.170195234434    ┆ 25369.096926962313  ┆ 171.51               ┆ 9589.743              ┆ 109285.07           │\n",
      "│ Close      ┆ 3903.0   ┆ 22395.995037407123    ┆ 25953.446600319843  ┆ 178.103              ┆ 9811.926              ┆ 111673.281          │\n",
      "│ Volume     ┆ 3903.0   ┆ 19519453943.93492     ┆ 20926769141.37543   ┆ 5914570.0            ┆ 15735797744.0         ┆ 350967941479.0      │\n",
      "│ Adjusted   ┆ 3903.0   ┆ 22395.99503857522     ┆ 25953.446601587122  ┆ 178.10299682617188   ┆ 9811.92578125         ┆ 111673.28125        │\n",
      "│ CloseLag1  ┆ 3903.0   ┆ 22368.170326928008    ┆ 25918.772157018222  ┆ 178.103              ┆ 9800.637              ┆ 111673.281          │\n",
      "│ CloseLag2  ┆ 3903.0   ┆ 22340.239010760954    ┆ 25883.631502962544  ┆ 178.103              ┆ 9795.943              ┆ 111673.281          │\n",
      "│ CloseLag3  ┆ 3903.0   ┆ 22312.419882654372    ┆ 25848.75477467824   ┆ 178.103              ┆ 9795.7                ┆ 111673.281          │\n",
      "│ HML        ┆ 3903.0   ┆ 1001.3231975403536    ┆ 1439.88370590448    ┆ 1.028                ┆ 383.131               ┆ 12864.621           │\n",
      "│ HMLLag1    ┆ 3903.0   ┆ 1000.5311521906226    ┆ 1439.5601132218178  ┆ 1.028                ┆ 382.884               ┆ 12864.621           │\n",
      "│ HMLLag2    ┆ 3903.0   ┆ 1000.1218552395593    ┆ 1439.604997671828   ┆ 1.028                ┆ 382.861               ┆ 12864.621           │\n",
      "│ HMLLag3    ┆ 3903.0   ┆ 999.452068408916      ┆ 1439.4546480299848  ┆ 1.028                ┆ 382.801               ┆ 12864.621           │\n",
      "│ OMC        ┆ 3903.0   ┆ -26.667365103766326   ┆ 1033.707200790521   ┆ -8230.07             ┆ -1.576                ┆ 8182.75             │\n",
      "│ OMCLag1    ┆ 3903.0   ┆ -26.77406738406354    ┆ 1033.6799160371395  ┆ -8230.07             ┆ -1.576                ┆ 8182.75             │\n",
      "│ OMCLag2    ┆ 3903.0   ┆ -26.65902613374329    ┆ 1033.6615070421196  ┆ -8230.07             ┆ -1.565                ┆ 8182.75             │\n",
      "│ OMCLag3    ┆ 3903.0   ┆ -26.34089982065077    ┆ 1033.4811575185508  ┆ -8230.07             ┆ -1.548                ┆ 8182.75             │\n",
      "│ VolumeLag1 ┆ 3903.0   ┆ 19504744167.718678    ┆ 20920277179.94044   ┆ 5914570.0            ┆ 15713967523.0         ┆ 350967941479.0      │\n",
      "│ VolumeLag2 ┆ 3903.0   ┆ 19492979889.37612     ┆ 20918311992.37161   ┆ 5914570.0            ┆ 15656371534.0         ┆ 350967941479.0      │\n",
      "│ VolumeLag3 ┆ 3903.0   ┆ 19480810536.303867    ┆ 20915819745.764656  ┆ 5914570.0            ┆ 15651592610.0         ┆ 350967941479.0      │\n",
      "│ CloseEMA2  ┆ 3903.0   ┆ 22340.348294901356    ┆ 25870.907381536716  ┆ 204.533              ┆ 9776.93               ┆ 109762.725          │\n",
      "│ CloseEMA4  ┆ 3903.0   ┆ 22301.29337714579     ┆ 25808.10219986288   ┆ 213.531              ┆ 9788.474              ┆ 108543.934          │\n",
      "│ CloseEMA8  ┆ 3903.0   ┆ 22223.594575967203    ┆ 25685.266510481688  ┆ 224.11               ┆ 9812.875              ┆ 107184.137          │\n",
      "│ LogReturn  ┆ 3903.0   ┆ 0.0014400934770645688 ┆ 0.03609055526242732 ┆ -0.46473017533977296 ┆ 0.0013027740444132617 ┆ 0.22511895434132784 │\n",
      "│ Target     ┆ 3903.0   ┆ 0.528311555213938     ┆ 0.49926177515448744 ┆ 0.0                  ┆ 1.0                   ┆ 1.0                 │\n",
      "└────────────┴──────────┴───────────────────────┴─────────────────────┴──────────────────────┴───────────────────────┴─────────────────────┘\n"
     ]
    }
   ],
   "source": [
    "# Drop the rows with null values such as the initial lag rows\n",
    "btc = btc.drop_nulls()\n",
    "\n",
    "# Descriptive statistics\n",
    "btcStatistics = btc.drop('Date').describe()\n",
    "\n",
    "print(btcStatistics.columns)\n",
    "\n",
    "btcStatisticsToPrint = btcStatistics.transpose(include_header=True).drop(['column_1', 'column_5', 'column_7'])\n",
    "\n",
    "print(btcStatisticsToPrint.schema)\n",
    "\n",
    "with pl.Config(\n",
    "    tbl_rows = 60,\n",
    "    tbl_width_chars = 200,\n",
    "    tbl_cols = -1,\n",
    "    float_precision = 3,\n",
    "    tbl_hide_dataframe_shape = True,\n",
    "    tbl_hide_column_data_types = True):\n",
    "    print(btcStatisticsToPrint)\n",
    "\n"
   ]
  },
  {
   "cell_type": "markdown",
   "metadata": {},
   "source": [
    "### Feature List\n",
    "Features or explanatory variables, also known as an independent variables, are used to predict the values of target variables. The initial list of featrues includes the price-based features defined above, everything except the continuous response **LogReturn** if we wanted to employ regression and the binary response **Target** for classification, which is the focus of this project. This complete feature list is used in evaluating all methods."
   ]
  },
  {
   "cell_type": "code",
   "execution_count": 15,
   "metadata": {},
   "outputs": [
    {
     "data": {
      "text/html": [
       "<div><style>\n",
       ".dataframe > thead > tr,\n",
       ".dataframe > tbody > tr {\n",
       "  text-align: right;\n",
       "  white-space: pre-wrap;\n",
       "}\n",
       "</style>\n",
       "<small>shape: (5, 15)</small><table border=\"1\" class=\"dataframe\"><thead><tr><th>CloseLag1</th><th>CloseLag2</th><th>CloseLag3</th><th>HMLLag1</th><th>HMLLag2</th><th>HMLLag3</th><th>OMCLag1</th><th>OMCLag2</th><th>OMCLag3</th><th>VolumeLag1</th><th>VolumeLag2</th><th>VolumeLag3</th><th>CloseEMA2</th><th>CloseEMA4</th><th>CloseEMA8</th></tr><tr><td>f64</td><td>f64</td><td>f64</td><td>f64</td><td>f64</td><td>f64</td><td>f64</td><td>f64</td><td>f64</td><td>f64</td><td>f64</td><td>f64</td><td>f64</td><td>f64</td><td>f64</td></tr></thead><tbody><tr><td>394.796</td><td>424.44</td><td>457.334</td><td>43.303</td><td>43.756</td><td>15.752</td><td>29.307</td><td>32.42</td><td>8.53</td><td>3.79197e7</td><td>3.44832e7</td><td>2.10568e7</td><td>412.2</td><td>418.461</td><td>421.934</td></tr><tr><td>408.904</td><td>394.796</td><td>424.44</td><td>33.413</td><td>43.303</td><td>43.756</td><td>-14.231</td><td>29.307</td><td>32.42</td><td>3.68636e7</td><td>3.79197e7</td><td>3.44832e7</td><td>410.442</td><td>414.729</td><td>417.788</td></tr><tr><td>398.821</td><td>408.904</td><td>394.796</td><td>19.245</td><td>33.413</td><td>43.303</td><td>9.264</td><td>-14.231</td><td>29.307</td><td>2.65801e7</td><td>3.68636e7</td><td>3.79197e7</td><td>404.444</td><td>409.069</td><td>412.581</td></tr><tr><td>402.152</td><td>398.821</td><td>408.904</td><td>9.786</td><td>19.245</td><td>33.413</td><td>-3.052</td><td>9.264</td><td>-14.231</td><td>2.41276e7</td><td>2.65801e7</td><td>3.68636e7</td><td>403.28</td><td>406.754</td><td>410.014</td></tr><tr><td>435.791</td><td>402.152</td><td>398.821</td><td>45.36</td><td>9.786</td><td>19.245</td><td>-33.699</td><td>-3.052</td><td>9.264</td><td>4.50995e7</td><td>2.41276e7</td><td>2.65801e7</td><td>419.663</td><td>416.083</td><td>415.851</td></tr></tbody></table></div>"
      ],
      "text/plain": [
       "shape: (5, 15)\n",
       "┌───────────┬───────────┬───────────┬─────────┬───┬────────────┬───────────┬───────────┬───────────┐\n",
       "│ CloseLag1 ┆ CloseLag2 ┆ CloseLag3 ┆ HMLLag1 ┆ … ┆ VolumeLag3 ┆ CloseEMA2 ┆ CloseEMA4 ┆ CloseEMA8 │\n",
       "│ ---       ┆ ---       ┆ ---       ┆ ---     ┆   ┆ ---        ┆ ---       ┆ ---       ┆ ---       │\n",
       "│ f64       ┆ f64       ┆ f64       ┆ f64     ┆   ┆ f64        ┆ f64       ┆ f64       ┆ f64       │\n",
       "╞═══════════╪═══════════╪═══════════╪═════════╪═══╪════════════╪═══════════╪═══════════╪═══════════╡\n",
       "│ 394.796   ┆ 424.44    ┆ 457.334   ┆ 43.303  ┆ … ┆ 2.10568e7  ┆ 412.2     ┆ 418.461   ┆ 421.934   │\n",
       "│ 408.904   ┆ 394.796   ┆ 424.44    ┆ 33.413  ┆ … ┆ 3.44832e7  ┆ 410.442   ┆ 414.729   ┆ 417.788   │\n",
       "│ 398.821   ┆ 408.904   ┆ 394.796   ┆ 19.245  ┆ … ┆ 3.79197e7  ┆ 404.444   ┆ 409.069   ┆ 412.581   │\n",
       "│ 402.152   ┆ 398.821   ┆ 408.904   ┆ 9.786   ┆ … ┆ 3.68636e7  ┆ 403.28    ┆ 406.754   ┆ 410.014   │\n",
       "│ 435.791   ┆ 402.152   ┆ 398.821   ┆ 45.36   ┆ … ┆ 2.65801e7  ┆ 419.663   ┆ 416.083   ┆ 415.851   │\n",
       "└───────────┴───────────┴───────────┴─────────┴───┴────────────┴───────────┴───────────┴───────────┘"
      ]
     },
     "execution_count": 15,
     "metadata": {},
     "output_type": "execute_result"
    }
   ],
   "source": [
    "# Select Features for the Model, exclude current day price variables ... no \"leakage\"\n",
    "# note for moving averages, we have excluded the current day, and provide a 10-day gap\n",
    "# so these may be included in the set \n",
    "X = btc.drop(['Date', 'LogReturn', 'Target', 'Open', 'High', 'Low', 'Close', 'Volume', 'HML', 'OMC', 'Adjusted'])\n",
    "X.head()"
   ]
  },
  {
   "cell_type": "markdown",
   "metadata": {},
   "source": [
    "### Examine the Distribution of LogReturn Values\n",
    "\n",
    "The average daily return is approximately 0.14%, indicating a slight upward bias over time. However, returns exhibit substantial volatility, with a standard deviation of 3.6%, and a wide range spanning from a minimum of -46.5% to a maximum of 22.5%. The distribution is right-skewed: the median return (0.13%) is slightly below the mean, and the interquartile range (from -1.26% to +1.66%) shows that the majority of daily movements are relatively small, with occasional big jumps."
   ]
  },
  {
   "cell_type": "code",
   "execution_count": 16,
   "metadata": {},
   "outputs": [
    {
     "name": "stdout",
     "output_type": "stream",
     "text": [
      "shape: (9, 2)\n",
      "┌────────────┬───────────┐\n",
      "│ statistic  ┆ value     │\n",
      "│ ---        ┆ ---       │\n",
      "│ str        ┆ f64       │\n",
      "╞════════════╪═══════════╡\n",
      "│ count      ┆ 3903.0    │\n",
      "│ null_count ┆ 0.0       │\n",
      "│ mean       ┆ 0.00144   │\n",
      "│ std        ┆ 0.036091  │\n",
      "│ min        ┆ -0.46473  │\n",
      "│ 25%        ┆ -0.012556 │\n",
      "│ 50%        ┆ 0.001303  │\n",
      "│ 75%        ┆ 0.016605  │\n",
      "│ max        ┆ 0.225119  │\n",
      "└────────────┴───────────┘\n"
     ]
    }
   ],
   "source": [
    "# Define and examine the target for regression model development\n",
    "print(btc['LogReturn'].describe())\n",
    "\n",
    "y = np.array(btc['LogReturn'])\n"
   ]
  },
  {
   "cell_type": "markdown",
   "metadata": {},
   "source": [
    "### Standardize All Features\n"
   ]
  },
  {
   "cell_type": "code",
   "execution_count": 17,
   "metadata": {},
   "outputs": [
    {
     "name": "stdout",
     "output_type": "stream",
     "text": [
      "Feature names correspond to Numpy array columns: ['CloseLag1', 'CloseLag2', 'CloseLag3', 'HMLLag1', 'HMLLag2', 'HMLLag3', 'OMCLag1', 'OMCLag2', 'OMCLag3', 'VolumeLag1', 'VolumeLag2', 'VolumeLag3', 'CloseEMA2', 'CloseEMA4', 'CloseEMA8']\n"
     ]
    }
   ],
   "source": [
    "# Standardize features\n",
    "featureNames = X.columns\n",
    "print(\"Feature names correspond to Numpy array columns:\",featureNames)\n",
    "scaler = StandardScaler()\n",
    "X = scaler.fit_transform(np.array(X))"
   ]
  },
  {
   "cell_type": "markdown",
   "metadata": {},
   "source": [
    "### Target Definition for Classification (Target)\n",
    "\n"
   ]
  },
  {
   "cell_type": "code",
   "execution_count": 18,
   "metadata": {},
   "outputs": [
    {
     "name": "stdout",
     "output_type": "stream",
     "text": [
      "shape: (2, 2)\n",
      "┌────────┬───────┐\n",
      "│ Target ┆ count │\n",
      "│ ---    ┆ ---   │\n",
      "│ i32    ┆ u32   │\n",
      "╞════════╪═══════╡\n",
      "│ 1      ┆ 2062  │\n",
      "│ 0      ┆ 1841  │\n",
      "└────────┴───────┘\n"
     ]
    }
   ],
   "source": [
    "# Define and examine the target for classification model development\n",
    "print(btc['Target'].value_counts())\n",
    "\n",
    "y = np.array(btc['Target'])"
   ]
  },
  {
   "cell_type": "markdown",
   "metadata": {},
   "source": [
    "### Feature Selection Using All Possible Classifications \n",
    "In order to refine our model selection process, we analyzed the ten models with the lowest AIC scores to identify which features were most consistently associated with strong predictive performance. For each of the top ten models, we extracted the feature combinations and counted the frequency of each feature’s appearance. This allowed us to quantify which features contributed most reliably to models with high explanatory power.\n",
    "\n",
    "The five most frequently occurring features across these top models were: OMCLag1, HMLLag1, CloseLag3, CloseEMA2, and CloseEMA4. These selections highlight a consistent preference for lagged features capturing recent price movements (CloseLag3), volatility-based spread indicators (HMLLag1), and trend-following signals derived from exponential moving averages (CloseEMA2 and CloseEMA4). Most notably, OMCLag1, the one-day lag of the open-minus-close spread, appeared in nearly all top-performing models, underscoring its potential value as a directional predictor. This feature ranking informed the final subset used for subsequent model development and evaluation."
   ]
  },
  {
   "cell_type": "code",
   "execution_count": 19,
   "metadata": {},
   "outputs": [],
   "source": [
    "# Polars DataFrame for storing results from all possible subsets \n",
    "resultsSchema = {\"trialNumber\": pl.Int64, \"features\": pl.String, 'aic': pl.Float64} \n",
    "resultsDataFrame = pl.DataFrame(schema = resultsSchema) \n",
    "\n",
    "def getAIC(X, y): \n",
    "    model = LogisticRegression()\n",
    "    model.fit(X, y)\n",
    "    # Calculate log-likelihood\n",
    "    loglik = -log_loss(y, model.predict_proba(X)) * len(y)    \n",
    "    # Calculate the number of parameters\n",
    "    k = X.shape[1] + 1    \n",
    "    # Calculate AIC... smaller is better\n",
    "    aic = 2 * k -2 * loglik     \n",
    "    # print(f\"AIC: {aic}\") # print for initial testing\n",
    "    return aic\n",
    "\n",
    "from itertools import chain, combinations\n",
    "\n",
    "def powerset(iterable):\n",
    "    s = list(iterable)\n",
    "    return chain.from_iterable(combinations(s, r) for r in range(1, len(s)))\n",
    "\n",
    "trialNumber = 0 # initialize count\n",
    "for c in powerset(range(X.shape[1])):\n",
    "    trialNumber = trialNumber + 1\n",
    "    # print(c)\n",
    "    thisAIC = getAIC(X[:,c], y)\n",
    "    thisTrialDataFrame = pl.DataFrame({\"trialNumber\": trialNumber,\n",
    "                                       \"features\": ' '.join(map(str, c)),\n",
    "                                       \"aic\": thisAIC},\n",
    "                                        schema=resultsSchema)          \n",
    "    resultsDataFrame = pl.concat([resultsDataFrame,thisTrialDataFrame])\n",
    "\n",
    "# one more set of features... all features\n",
    "trialNumber = trialNumber + 1\n",
    "thisAIC = getAIC(X, y)\n",
    "thisTrialDataFrame = pl.DataFrame({\"trialNumber\": trialNumber,\n",
    "                                   \"features\": \"0 1 2 3 4 5 6 7 8 9 10 11 12 13 14\",\n",
    "                                   \"aic\": thisAIC},\n",
    "                                    schema=resultsSchema, strict=False)          \n",
    "resultsDataFrame = pl.concat([resultsDataFrame,thisTrialDataFrame])\n"
   ]
  },
  {
   "cell_type": "code",
   "execution_count": 20,
   "metadata": {},
   "outputs": [
    {
     "name": "stdout",
     "output_type": "stream",
     "text": [
      "shape: (10, 3)\n",
      "┌─────────────┬──────────┬─────────────┐\n",
      "│ trialNumber ┆ features ┆ aic         │\n",
      "│ ---         ┆ ---      ┆ ---         │\n",
      "│ i64         ┆ str      ┆ f64         │\n",
      "╞═════════════╪══════════╪═════════════╡\n",
      "│ 46          ┆ 2 6      ┆ 5389.907334 │\n",
      "│ 90          ┆ 6 12     ┆ 5389.923056 │\n",
      "│ 91          ┆ 6 13     ┆ 5389.931781 │\n",
      "│ 21          ┆ 0 6      ┆ 5389.93233  │\n",
      "│ 34          ┆ 1 6      ┆ 5389.933659 │\n",
      "│ 92          ┆ 6 14     ┆ 5389.93824  │\n",
      "│ 292         ┆ 2 3 6    ┆ 5390.33114  │\n",
      "│ 382         ┆ 3 6 14   ┆ 5390.363525 │\n",
      "│ 381         ┆ 3 6 13   ┆ 5390.372338 │\n",
      "│ 380         ┆ 3 6 12   ┆ 5390.378342 │\n",
      "└─────────────┴──────────┴─────────────┘\n"
     ]
    }
   ],
   "source": [
    "print(resultsDataFrame.sort('aic').head(10))"
   ]
  },
  {
   "cell_type": "code",
   "execution_count": 21,
   "metadata": {},
   "outputs": [
    {
     "name": "stdout",
     "output_type": "stream",
     "text": [
      "Top 5 most frequent features from top 10 models: ['OMCLag1', 'HMLLag1', 'CloseLag3', 'CloseEMA2', 'CloseEMA4']\n"
     ]
    }
   ],
   "source": [
    "import polars as pl\n",
    "from collections import Counter\n",
    "import numpy as np\n",
    "\n",
    "# Assume X is already scaled with: X = scaler.fit_transform(np.array(X))\n",
    "# Also assume featureNames exists as a list of original feature names\n",
    "\n",
    "# Step 1: Get the top 10 combinations from resultsDataFrame\n",
    "top_10 = resultsDataFrame.sort(\"aic\").head(10)\n",
    "\n",
    "# Step 2: Count feature index occurrences\n",
    "all_features = []\n",
    "for row in top_10.iter_rows(named=True):\n",
    "    feature_indices = list(map(int, row['features'].split()))\n",
    "    all_features.extend(feature_indices)\n",
    "\n",
    "# Step 3: Get top 5 most common feature indices\n",
    "feature_counts = Counter(all_features)\n",
    "top5_indices = [idx for idx, _ in feature_counts.most_common(5)]\n",
    "\n",
    "# Step 4: Map feature indices back to names using featureNames\n",
    "best_features = [featureNames[i] for i in top5_indices]\n",
    "\n",
    "print(\"Top 5 most frequent features from top 10 models:\", best_features)\n"
   ]
  },
  {
   "cell_type": "markdown",
   "metadata": {},
   "source": [
    "### Selected Feature Subset\n",
    "Reviewing the ten lowest *AIC* models, we selected five features for subsequent model development:\n",
    "\n",
    "- **OMCLag1**: Lag-one open minus close daily prices  \n",
    "- **HMLLag1**: Lag-one high minus low daily prices  \n",
    "- **CloseLag3**: Lag-three daily closing price  \n",
    "- **CloseEMA2**: Exponential moving average across two days  \n",
    "- **CloseEMA4**: Exponential moving average across four days"
   ]
  },
  {
   "cell_type": "code",
   "execution_count": 22,
   "metadata": {},
   "outputs": [],
   "source": [
    "# select subset of five columns as features\n",
    "X = btc.select(best_features)\n"
   ]
  },
  {
   "cell_type": "markdown",
   "metadata": {},
   "source": [
    "### Define Cross-Validation Training and Test Sets\n",
    "Recognizing that time series observations are not independent observations, we use Scikit-Learn [TimeSeriesSplit](https://scikit-learn.org/stable/modules/generated/sklearn.model_selection.TimeSeriesSplit.html) for cross-validation. \n",
    "\n",
    "This cross-validation object is a variation of multi-fold cross-validation for independent observations. In the kth split, it returns first k folds as train set and the (k+1)th fold as test set.\n",
    "\n",
    "Unlike cross-validation for independent observations, however, successive training sets are supersets of those that come before them. A listing of observation index numbers shows what this means for the time series market data in this demonstration.\n"
   ]
  },
  {
   "cell_type": "code",
   "execution_count": 23,
   "metadata": {},
   "outputs": [
    {
     "name": "stdout",
     "output_type": "stream",
     "text": [
      "type(all_splits): <class 'list'>  outer list length 5\n",
      "\n",
      "train_0 has 643 with indices from  0 to 642\n",
      "test_0 has 650 with indices from  653 to 1302\n",
      "\n",
      "train_1 has 1293 with indices from  0 to 1292\n",
      "test_1 has 650 with indices from  1303 to 1952\n",
      "\n",
      "train_2 has 1943 with indices from  0 to 1942\n",
      "test_2 has 650 with indices from  1953 to 2602\n",
      "\n",
      "train_3 has 2593 with indices from  0 to 2592\n",
      "test_3 has 650 with indices from  2603 to 3252\n",
      "\n",
      "train_4 has 3243 with indices from  0 to 3242\n",
      "test_4 has 650 with indices from  3253 to 3902\n"
     ]
    }
   ],
   "source": [
    "# Splitting the datasets into train and test sets\n",
    "# gap is the number of samples to exclude from \n",
    "# the end of each train set and before the next test set.\n",
    "tscv = TimeSeriesSplit(gap=10, n_splits=5)\n",
    "\n",
    "all_splits = list(tscv.split(X, y))\n",
    "train_0, test_0 = all_splits[0]\n",
    "train_1, test_1 = all_splits[1]\n",
    "train_2, test_2 = all_splits[2]\n",
    "train_3, test_3 = all_splits[3]\n",
    "train_4, test_4 = all_splits[4]\n",
    "\n",
    "# examine the objects created for cross-validation splits\n",
    "print(\"type(all_splits):\", type(all_splits), \" outer list length\", len(all_splits))\n",
    "print()\n",
    "print(\"train_0 has\",len(train_0),\"with indices from \",min(train_0),\"to\",max(train_0))\n",
    "print(\"test_0 has\",len(test_0),\"with indices from \",min(test_0),\"to\",max(test_0))\n",
    "print()\n",
    "print(\"train_1 has\",len(train_1),\"with indices from \",min(train_1),\"to\",max(train_1))\n",
    "print(\"test_1 has\",len(test_1),\"with indices from \",min(test_1),\"to\",max(test_1))\n",
    "print()\n",
    "print(\"train_2 has\",len(train_2),\"with indices from \",min(train_2),\"to\",max(train_2))\n",
    "print(\"test_2 has\",len(test_2),\"with indices from \",min(test_2),\"to\",max(test_2))\n",
    "print()\n",
    "print(\"train_3 has\",len(train_3),\"with indices from \",min(train_3),\"to\",max(train_3))\n",
    "print(\"test_3 has\",len(test_3),\"with indices from \",min(test_3),\"to\",max(test_3))\n",
    "print()\n",
    "print(\"train_4 has\",len(train_4),\"with indices from \",min(train_4),\"to\",max(train_4))\n",
    "print(\"test_4 has\",len(test_4),\"with indices from \",min(test_4),\"to\",max(test_4))\n",
    "\n",
    "# to see all indices we can uncomment these statements\n",
    "# print(\"elements of all_splits list of lists,\\n shows index numbers for each the five lists\")\n",
    "# print(all_splits)"
   ]
  },
  {
   "cell_type": "markdown",
   "metadata": {},
   "source": [
    "### Define an Initial Classification Model to Be Evaluated¶\n",
    "We again select gradient boosting from the XGBoost package, this time defining a classification model to be evaluated. Hyperparameters are retained at defauld settings, except for n_estimators."
   ]
  },
  {
   "cell_type": "code",
   "execution_count": 24,
   "metadata": {},
   "outputs": [],
   "source": [
    "model = XGBClassifier(objective='binary:logistic', n_estimators=1000, random_state=2025)"
   ]
  },
  {
   "cell_type": "markdown",
   "metadata": {},
   "source": [
    "### Evaluate a Classification Model Within the Time Series Cross-Validation Design\n",
    "Prior to executing a full-blown search for the \"best\" classification model, we test the cross-validation design on a binary classification model, revising code provided in online documentation for Scikit-Learn: [Time-related feature engineerng](https://scikit-learn.org/stable/auto_examples/applications/plot_cyclical_feature_engineering.html#sphx-glr-auto-examples-applications-plot-cyclical-feature-engineering-py). In particular, we define appropriate metrics for assessing classification performance."
   ]
  },
  {
   "cell_type": "code",
   "execution_count": 25,
   "metadata": {},
   "outputs": [
    {
     "name": "stdout",
     "output_type": "stream",
     "text": [
      "Mean model.n_estimators = 1000.0\n"
     ]
    },
    {
     "data": {
      "text/plain": [
       "(0.4932307692307692, 0.032235817486052414)"
      ]
     },
     "execution_count": 25,
     "metadata": {},
     "output_type": "execute_result"
    }
   ],
   "source": [
    "def evaluate(model, X, y, cv, model_prop=None, model_step=None):\n",
    "    cv_results = cross_validate(\n",
    "        model,\n",
    "        X,\n",
    "        y,\n",
    "        cv=cv,\n",
    "        scoring=[\"accuracy\"],\n",
    "        return_estimator=model_prop is not None,\n",
    "    )\n",
    "    if model_prop is not None:\n",
    "        if model_step is not None:\n",
    "            values = [\n",
    "                getattr(m[model_step], model_prop) for m in cv_results[\"estimator\"]\n",
    "            ]\n",
    "        else:\n",
    "            values = [getattr(m, model_prop) for m in cv_results[\"estimator\"]]\n",
    "        print(f\"Mean model.{model_prop} = {np.mean(values)}\")\n",
    "    accuracy = -cv_results[\"test_accuracy\"]\n",
    "\n",
    "    # print used in earlier testing\n",
    "    # print(\n",
    "    #    f\"Mean Accuracy:     {-accuracy.mean():.3f} +/- {accuracy.std():.3f}\\n\"\n",
    "    # )\n",
    "    return (-accuracy.mean(), accuracy.std())\n",
    "    \n",
    "evaluate(model, X, y, cv=tscv, model_prop=\"n_estimators\")\n",
    "\n"
   ]
  },
  {
   "cell_type": "code",
   "execution_count": 26,
   "metadata": {},
   "outputs": [
    {
     "name": "stdout",
     "output_type": "stream",
     "text": [
      "Mean model.n_estimators = 1000.0\n",
      "Mean Accuracy:     0.493 +/- 0.032\n",
      "\n"
     ]
    }
   ],
   "source": [
    "# print results from evaluate\n",
    "accuracyMean, accuracyStd = evaluate(model, X, y, cv=tscv, model_prop=\"n_estimators\")\n",
    "print(\n",
    "        f\"Mean Accuracy:     {accuracyMean:.3f} +/- {accuracyStd:.3f}\\n\"\n",
    "     )"
   ]
  },
  {
   "cell_type": "markdown",
   "metadata": {},
   "source": [
    "### Randomized Search for Hyperparameter Settings\n",
    "This script conducts hyperparameter optimization for an XGBoost classifier using RandomizedSearchCV to enhance its ability to predict the direction of Bitcoin price movements. The search randomly samples 100 combinations of hyperparameters, such as max_depth, min_child_weight, subsample, learning_rate, and n_estimators, within predefined ranges. To ensure temporal integrity in the model evaluation, TimeSeriesSplit with a gap of 10 is used, which prevents information leakage from future observations into the training process. The evaluation metric is classification accuracy, and parallel processing speeds up the search process.\n",
    "\n",
    "The best-performing configuration found through this search consists of a learning rate of approximately 0.078, a maximum tree depth of 4, a minimum child weight of 8, 712 boosting rounds (estimators), and a subsample ratio of about 0.952. Using this parameter combination, the model achieved a best cross-validated accuracy score of approximately 51.97%. While only slightly better than random guessing, this suggests some marginal predictive signal exists in the engineered features, but it also points to the challenges of short-term BTC return direction forecasting and the potential need for additional informative variables."
   ]
  },
  {
   "cell_type": "code",
   "execution_count": 27,
   "metadata": {},
   "outputs": [
    {
     "name": "stdout",
     "output_type": "stream",
     "text": [
      "Best parameters: {'learning_rate': 0.07761938857689385, 'max_depth': 4, 'min_child_weight': 8, 'n_estimators': 712, 'subsample': 0.9518179342873276}\n",
      "Best score: 0.5196923076923077\n"
     ]
    }
   ],
   "source": [
    "# Randomized search to find the best set of hyperparameters\n",
    "\n",
    "param_dist = {\n",
    "    'max_depth': randint(3, 10),\n",
    "    'min_child_weight': randint(1, 10),\n",
    "    'subsample': uniform(0.5, 1),\n",
    "    'learning_rate': uniform(0.01, 0.1),\n",
    "    'n_estimators': randint(100, 1000),\n",
    "}\n",
    "xgb_model = xgb.XGBClassifier(objective='binary:logistic', use_label_encoder=False, eval_metric='logloss', random_state=2025)\n",
    "\n",
    "random_search = RandomizedSearchCV(\n",
    "    estimator=xgb_model,\n",
    "    param_distributions=param_dist,\n",
    "    n_iter=100, # Number of parameter settings that are sampled.\n",
    "    scoring='accuracy',\n",
    "    cv = TimeSeriesSplit(gap=10, n_splits=5),\n",
    "    random_state=2025,\n",
    "    n_jobs=-1 # Use all available cores\n",
    ")\n",
    "\n",
    "random_search.fit(X, y)\n",
    "\n",
    "print(\"Best parameters:\", random_search.best_params_)\n",
    "print(\"Best score:\", random_search.best_score_)"
   ]
  },
  {
   "cell_type": "markdown",
   "metadata": {},
   "source": [
    "### Evaluate the Model\n",
    "We define define an XGBoost subset model with these hyperparameter values and evaluate on the full data set."
   ]
  },
  {
   "cell_type": "code",
   "execution_count": 28,
   "metadata": {},
   "outputs": [
    {
     "data": {
      "text/plain": [
       "<sklearn.metrics._plot.roc_curve.RocCurveDisplay at 0x27b67e39150>"
      ]
     },
     "execution_count": 28,
     "metadata": {},
     "output_type": "execute_result"
    },
    {
     "data": {
      "image/png": "[encoded data removed]",
      "text/plain": [
       "<Figure size 640x480 with 1 Axes>"
      ]
     },
     "metadata": {},
     "output_type": "display_data"
    }
   ],
   "source": [
    "# final model evaluation\n",
    "finalModel = XGBClassifier(objective='binary:logistic', eval_metric='logloss', random_state=2025,\n",
    "                          max_depth = 9, min_child_weight = 9, subsample = 0.50, learning_rate = 0.09, n_estimators = 273)\n",
    "\n",
    "finalModel.fit(X, y)\n",
    "ypred = finalModel.predict(X)\n",
    "RocCurveDisplay.from_predictions(y, ypred)\n",
    "                    "
   ]
  },
  {
   "cell_type": "code",
   "execution_count": 29,
   "metadata": {},
   "outputs": [
    {
     "name": "stdout",
     "output_type": "stream",
     "text": [
      "Confusion Matrix\n",
      "[[1363  478]\n",
      " [ 331 1731]]\n"
     ]
    },
    {
     "data": {
      "image/png": "[encoded data removed]",
      "text/plain": [
       "<Figure size 640x480 with 2 Axes>"
      ]
     },
     "metadata": {},
     "output_type": "display_data"
    }
   ],
   "source": [
    "print(\"Confusion Matrix\")\n",
    "print(confusion_matrix(y, ypred))\n",
    "disp = ConfusionMatrixDisplay.from_predictions(y, ypred,\n",
    "                              display_labels =[\"Negative Return\",\"Positive Return\"],\n",
    "                                              cmap = plt.cm.Blues)\n",
    "plt.title(\"Confusion Matrix for Returns\")\n",
    "plt.xlabel(\"Predicted Return\")\n",
    "plt.ylabel(\"Actual Return\")\n",
    "plt.tight_layout()\n",
    "plt.show()                              "
   ]
  },
  {
   "cell_type": "code",
   "execution_count": 30,
   "metadata": {},
   "outputs": [
    {
     "name": "stdout",
     "output_type": "stream",
     "text": [
      "              precision    recall  f1-score   support\n",
      "\n",
      "           0       0.80      0.74      0.77      1841\n",
      "           1       0.78      0.84      0.81      2062\n",
      "\n",
      "   micro avg       0.79      0.79      0.79      3903\n",
      "   macro avg       0.79      0.79      0.79      3903\n",
      "weighted avg       0.79      0.79      0.79      3903\n",
      "\n"
     ]
    }
   ],
   "source": [
    "print(classification_report(y, ypred, labels = [\"0\",\"1\"]))"
   ]
  },
  {
   "cell_type": "markdown",
   "metadata": {},
   "source": [
    "### Evaluation Summary\n",
    "\n",
    "The evaluation results of the XGBoost classifier provide a strong indication that the model performs reasonably well in distinguishing between positive and negative Bitcoin returns. The confusion matrix shows that out of 3,903 total predictions, the model correctly predicted 1,731 positive returns and 1,363 negative returns. However, it also misclassified 478 negative returns as positive and 331 positive returns as negative, suggesting a slight bias toward predicting upward movements.\n",
    "\n",
    "The ROC curve reveals an Area Under the Curve (AUC) of 0.79, which indicates good discriminatory power. A perfect classifier would score 1.0, while a value around 0.5 suggests no discriminative ability. Therefore, 0.79 reflects a fairly effective model in distinguishing between the two classes.\n",
    "\n",
    "Looking at the classification report, the model achieved a precision of 0.80 for negative returns and 0.78 for positive returns, with recall values of 0.74 and 0.84, respectively. The overall f1-score for both classes hovered around 0.77 to 0.81, with macro, micro, and weighted averages all aligning at 0.79. These metrics confirm the model’s balanced performance, though with a slight tendency to be more confident and accurate in identifying upward trends. Further refinement may include exploring more features or adjusting the decision threshold to balance precision and recall."
   ]
  },
  {
   "cell_type": "markdown",
   "metadata": {},
   "source": [
    "## References\n",
    "\n",
    "* [yfinance GitHub](https://github.com/ranaroussi/yfinance)\n",
    "* [yfinance Documentation](https://ranaroussi.github.io/yfinance/)\n",
    "* [Polars Online User Guide](https://docs.pola.rs/)\n",
    "* [Build Polars Database](https://www.pyquantnews.com/free-python-resources/build-stock-database-locally-with-polars)\n",
    "* [YouTube. Polars and Time Series: What It Can Do, and How to Overcome Any Limitation](https://www.youtube.com/watch?v=qz-zAHBz6Ks)\n",
    "* [Awesome Quant: Python for Quantiative Finance](https://wilsonfreitas.github.io/awesome-quant/)\n",
    "* [Cross-validation](https://scikit-learn.org/stable/modules/cross_validation.html)\n",
    "* [TimeSeriesSplit](https://scikit-learn.org/stable/modules/generated/sklearn.model_selection.TimeSeriesSplit.html)\n",
    "* [RandomizedSearchCV](https://scikit-learn.org/stable/modules/generated/sklearn.model_selection.RandomizedSearchCV.html)\n",
    "* [Hyperparameter Tuning](https://scikit-learn.org/stable/modules/grid_search.html#grid-search)\n",
    "* [Metrics and Scoring](https://scikit-learn.org/stable/modules/model_evaluation.html#scoring-parameter)\n",
    "* [Introduction to Boosted Trees](https://xgboost.readthedocs.io/en/latest/tutorials/model.html)\n",
    "* [XGBoost documentation](https://xgboost.readthedocs.io/en/latest/index.html)\n",
    "* [XGBoost in Python documentation](https://xgboost-clone.readthedocs.io/en/latest/python/python_intro.html)\n",
    "* [Auto-Sklearn for AutoML in an Scikit-Learn Environment](https://www.automl.org/automl-for-x/tabular-data/auto-sklearn/)."
   ]
  },
  {
   "cell_type": "code",
   "execution_count": null,
   "metadata": {},
   "outputs": [],
   "source": []
  }
 ],
 "metadata": {
  "kernelspec": {
   "display_name": "Python 3",
   "language": "python",
   "name": "python3"
  },
  "language_info": {
   "codemirror_mode": {
    "name": "ipython",
    "version": 3
   },
   "file_extension": ".py",
   "mimetype": "text/x-python",
   "name": "python",
   "nbconvert_exporter": "python",
   "pygments_lexer": "ipython3",
   "version": "3.11.9"
  },
  "nbTranslate": {
   "displayLangs": [
    "*"
   ],
   "hotkey": "alt-t",
   "langInMainMenu": true,
   "sourceLang": "en",
   "targetLang": "fr",
   "useGoogleTranslate": true
  },
  "toc": {
   "base_numbering": 1,
   "nav_menu": {},
   "number_sections": true,
   "sideBar": true,
   "skip_h1_title": true,
   "title_cell": "Table of Contents",
   "title_sidebar": "Contents",
   "toc_cell": false,
   "toc_position": {
    "height": "calc(100% - 180px)",
    "left": "10px",
    "top": "150px",
    "width": "341.331543px"
   },
   "toc_section_display": true,
   "toc_window_display": false
  },
  "toc-autonumbering": false,
  "toc-showtags": false,
  "varInspector": {
   "cols": {
    "lenName": 16,
    "lenType": 16,
    "lenVar": 40
   },
   "kernels_config": {
    "python": {
     "delete_cmd_postfix": "",
     "delete_cmd_prefix": "del ",
     "library": "var_list.py",
     "varRefreshCmd": "print(var_dic_list())"
    },
    "r": {
     "delete_cmd_postfix": ") ",
     "delete_cmd_prefix": "rm(",
     "library": "var_list.r",
     "varRefreshCmd": "cat(var_dic_list()) "
    }
   },
   "types_to_exclude": [
    "module",
    "function",
    "builtin_function_or_method",
    "instance",
    "_Feature"
   ],
   "window_display": false
  }
 },
 "nbformat": 4,
 "nbformat_minor": 4
}
